{
  "cells": [
    {
      "cell_type": "markdown",
      "metadata": {
        "id": "view-in-github",
        "colab_type": "text"
      },
      "source": [
        "<a href=\"https://colab.research.google.com/github/Pravinoraon/deeplearning-object-detection/blob/main/preprscessing1.ipynb\" target=\"_parent\"><img src=\"https://colab.research.google.com/assets/colab-badge.svg\" alt=\"Open In Colab\"/></a>"
      ]
    },
    {
      "cell_type": "markdown",
      "source": [],
      "metadata": {
        "id": "03RECOF4wF-W"
      }
    },
    {
      "cell_type": "code",
      "source": [
        "import os\n",
        "import shutil\n",
        "import numpy as np\n",
        "import matplotlib.pyplot as plt\n",
        "from sklearn.model_selection import train_test_split\n",
        "from tensorflow.keras.preprocessing.image import ImageDataGenerator, load_img, img_to_array\n"
      ],
      "metadata": {
        "id": "TIp5j4VsxzBY"
      },
      "execution_count": 1,
      "outputs": []
    },
    {
      "cell_type": "code",
      "source": [
        "\n",
        "# Mount Google Drive (if using Drive)\n",
        "from google.colab import drive\n",
        "drive.mount('/content/drive')"
      ],
      "metadata": {
        "colab": {
          "base_uri": "https://localhost:8080/"
        },
        "id": "qMmiRzqZx6BJ",
        "outputId": "d8e9ab12-365e-46a5-8a99-6d0562acfc56"
      },
      "execution_count": 2,
      "outputs": [
        {
          "output_type": "stream",
          "name": "stdout",
          "text": [
            "Drive already mounted at /content/drive; to attempt to forcibly remount, call drive.mount(\"/content/drive\", force_remount=True).\n"
          ]
        }
      ]
    },
    {
      "cell_type": "code",
      "source": [
        "# Define dataset location\n",
        "dataset_path = \"/content/drive/MyDrive/image\"\n",
        "\n",
        "# Check if dataset exists\n",
        "if not os.path.exists(dataset_path):\n",
        "    raise FileNotFoundError(f\"Dataset not found at {dataset_path}\")"
      ],
      "metadata": {
        "id": "Kj1pljK4x-sH"
      },
      "execution_count": 4,
      "outputs": []
    },
    {
      "cell_type": "code",
      "source": [
        "# Define categories (Auto-detect 32 class folders)\n",
        "categories = sorted(os.listdir(dataset_path))\n",
        "\n",
        "# Define where to save train/val splits\n",
        "base_dir = \"/content/classification_data\"\n",
        "train_dir = os.path.join(base_dir, \"train\")\n",
        "val_dir = os.path.join(base_dir, \"val\")"
      ],
      "metadata": {
        "id": "92j5buLEzrJn"
      },
      "execution_count": 5,
      "outputs": []
    },
    {
      "cell_type": "code",
      "source": [
        "# Create directories\n",
        "for category in categories:\n",
        "    os.makedirs(os.path.join(train_dir, category), exist_ok=True)\n",
        "    os.makedirs(os.path.join(val_dir, category), exist_ok=True)\n",
        "\n",
        "# Split dataset into training and validation sets\n",
        "for category in categories:\n",
        "    class_path = os.path.join(dataset_path, category)\n",
        "    images = os.listdir(class_path)\n",
        "\n",
        "    train_images, val_images = train_test_split(images, test_size=0.2, random_state=42)\n",
        "\n",
        "    # Move images into respective folders\n",
        "    for img_name in train_images:\n",
        "        shutil.copy(os.path.join(class_path, img_name), os.path.join(train_dir, category, img_name))\n",
        "\n",
        "    for img_name in val_images:\n",
        "        shutil.copy(os.path.join(class_path, img_name), os.path.join(val_dir, category, img_name))\n",
        "\n",
        "print(\"✅ Train-Validation Split Complete!\")"
      ],
      "metadata": {
        "colab": {
          "base_uri": "https://localhost:8080/"
        },
        "id": "mCWFBaVuztFt",
        "outputId": "0a2ca0b1-fa2d-479e-93d5-ca6a862f8ad4"
      },
      "execution_count": 6,
      "outputs": [
        {
          "output_type": "stream",
          "name": "stdout",
          "text": [
            "✅ Train-Validation Split Complete!\n"
          ]
        }
      ]
    },
    {
      "cell_type": "code",
      "source": [
        "# Move dataset to Drive (so it's not lost after restart)\n",
        "shutil.move(\"/content/classification_data\", \"/content/drive/MyDrive/classification_data\")\n",
        "\n",
        "# Save paths\n",
        "np.save(\"/content/drive/MyDrive/train_data.npy\", train_dir)\n",
        "np.save(\"/content/drive/MyDrive/val_data.npy\", val_dir)\n",
        "\n",
        "print(\"✅ Preprocessed dataset saved in Drive!\")"
      ],
      "metadata": {
        "colab": {
          "base_uri": "https://localhost:8080/"
        },
        "id": "x_SDoEMT1Is7",
        "outputId": "694628e6-46b8-486d-bbf5-d46de2620704"
      },
      "execution_count": 7,
      "outputs": [
        {
          "output_type": "stream",
          "name": "stdout",
          "text": [
            "✅ Preprocessed dataset saved in Drive!\n"
          ]
        }
      ]
    }
  ],
  "metadata": {
    "accelerator": "TPU",
    "colab": {
      "gpuType": "V28",
      "provenance": [],
      "include_colab_link": true
    },
    "kernelspec": {
      "display_name": "Python 3",
      "name": "python3"
    },
    "language_info": {
      "name": "python"
    }
  },
  "nbformat": 4,
  "nbformat_minor": 0
}